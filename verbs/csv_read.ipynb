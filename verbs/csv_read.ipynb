{
 "cells": [
  {
   "cell_type": "code",
   "execution_count": 1,
   "metadata": {},
   "outputs": [
    {
     "name": "stdout",
     "output_type": "stream",
     "text": [
      "              0           1           2\n",
      "0         arise       arose      arisen\n",
      "1         awake       awoke      awoken\n",
      "2            be         was        been\n",
      "3          bear        bore        born\n",
      "4          beat        beat      beaten\n",
      "5        become      became      become\n",
      "6         begin       began       begun\n",
      "7          bend        bent        bent\n",
      "8           bet         bet         bet\n",
      "9          bind       bound       bound\n",
      "10         bite         bit      bitten\n",
      "11        bleed        bled        bled\n",
      "12         blow        blew       blown\n",
      "13        break       broke      broken\n",
      "14        breed        bred        bred\n",
      "15        bring     brought     brought\n",
      "16    broadcast   broadcast   broadcast\n",
      "17        build       built       built\n",
      "18         burn       burnt       burnt\n",
      "19        burst       burst       burst\n",
      "20          buy      bought      bought\n",
      "21          can       could       could\n",
      "22        catch      caught      caught\n",
      "23       choose       chose      chosen\n",
      "24        cling       clung       clung\n",
      "25         come        came        come\n",
      "26         cost        cost        cost\n",
      "27        creep       crept       crept\n",
      "28          cut         cut         cut\n",
      "29         deal       dealt       dealt\n",
      "..          ...         ...         ...\n",
      "107       spell       spelt       spelt\n",
      "108       spend       spent       spent\n",
      "109       spill       spilt       spilt\n",
      "110        spit        spat        spat\n",
      "111      spread      spread      spread\n",
      "112       stand       stood       stood\n",
      "113       steal       stole      stolen\n",
      "114       stick       stuck       stuck\n",
      "115       sting       stung       stung\n",
      "116       stink       stank       stunk\n",
      "117      strike      struck      struck\n",
      "118       swear       swore       sworn\n",
      "119       sweep       swept       swept\n",
      "120       swell     swelled     swollen\n",
      "121        swim        swam        swum\n",
      "122       swing       swung       swung\n",
      "123        take        took       taken\n",
      "124       teach      taught      taught\n",
      "125        tear        tore        torn\n",
      "126        tell        told        told\n",
      "127       think     thought     thought\n",
      "128       throw       threw      thrown\n",
      "129  understand  understood  understood\n",
      "130        wake        woke       woken\n",
      "131        wear        wore        worn\n",
      "132        weep        wept        wept\n",
      "133        will       would       would\n",
      "134         win         won         won\n",
      "135        wind       wound       wound\n",
      "136       write       wrote     written\n",
      "\n",
      "[137 rows x 3 columns]\n"
     ]
    }
   ],
   "source": [
    "import pandas as pd\n",
    "\n",
    "verbs = pd.read_csv(\"irregular_verbs.csv\", header = None)\n",
    "print(verbs)"
   ]
  },
  {
   "cell_type": "code",
   "execution_count": 1,
   "metadata": {},
   "outputs": [
    {
     "name": "stdout",
     "output_type": "stream",
     "text": [
      "[0, 19, 4, 18, 19, 27]\n"
     ]
    }
   ],
   "source": [
    "from utils import *\n",
    "a = get_idx_add_eol(\"atest\")\n",
    "print(a)"
   ]
  },
  {
   "cell_type": "code",
   "execution_count": null,
   "metadata": {},
   "outputs": [],
   "source": []
  }
 ],
 "metadata": {
  "kernelspec": {
   "display_name": "Python 3",
   "language": "python",
   "name": "python3"
  },
  "language_info": {
   "codemirror_mode": {
    "name": "ipython",
    "version": 3
   },
   "file_extension": ".py",
   "mimetype": "text/x-python",
   "name": "python",
   "nbconvert_exporter": "python",
   "pygments_lexer": "ipython3",
   "version": "3.6.7"
  }
 },
 "nbformat": 4,
 "nbformat_minor": 2
}
